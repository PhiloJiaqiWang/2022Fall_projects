{
 "cells": [
  {
   "cell_type": "code",
   "execution_count": 1,
   "metadata": {
    "collapsed": true
   },
   "outputs": [],
   "source": [
    "import pandas as pd"
   ]
  },
  {
   "cell_type": "code",
   "execution_count": 2,
   "outputs": [
    {
     "data": {
      "text/plain": "   min_level  max_level                                      monster_lst  \\\n0          1         29                  [\"GreenSlime\",\"Bug\",\"RockCrab\"]   \n1         31         39                       [\"GreenSlime\",\"Bat\",\"Bug\"]   \n2         41         79           [\"GreenSlime\",\"FrostBat\",\"FrostJelly\"]   \n3         81        119  [\"GreenSlime\",\"LavaBat\",\"LavaCrab\",\"RedSludge\"]   \n\n               probs  \n0      [1/3,1/3,1/3]  \n1      [1/3,1/3,1/3]  \n2      [1/3,1/3,1/3]  \n3  [1/4,1/4,1/4,1/4]  ",
      "text/html": "<div>\n<style scoped>\n    .dataframe tbody tr th:only-of-type {\n        vertical-align: middle;\n    }\n\n    .dataframe tbody tr th {\n        vertical-align: top;\n    }\n\n    .dataframe thead th {\n        text-align: right;\n    }\n</style>\n<table border=\"1\" class=\"dataframe\">\n  <thead>\n    <tr style=\"text-align: right;\">\n      <th></th>\n      <th>min_level</th>\n      <th>max_level</th>\n      <th>monster_lst</th>\n      <th>probs</th>\n    </tr>\n  </thead>\n  <tbody>\n    <tr>\n      <th>0</th>\n      <td>1</td>\n      <td>29</td>\n      <td>[\"GreenSlime\",\"Bug\",\"RockCrab\"]</td>\n      <td>[1/3,1/3,1/3]</td>\n    </tr>\n    <tr>\n      <th>1</th>\n      <td>31</td>\n      <td>39</td>\n      <td>[\"GreenSlime\",\"Bat\",\"Bug\"]</td>\n      <td>[1/3,1/3,1/3]</td>\n    </tr>\n    <tr>\n      <th>2</th>\n      <td>41</td>\n      <td>79</td>\n      <td>[\"GreenSlime\",\"FrostBat\",\"FrostJelly\"]</td>\n      <td>[1/3,1/3,1/3]</td>\n    </tr>\n    <tr>\n      <th>3</th>\n      <td>81</td>\n      <td>119</td>\n      <td>[\"GreenSlime\",\"LavaBat\",\"LavaCrab\",\"RedSludge\"]</td>\n      <td>[1/4,1/4,1/4,1/4]</td>\n    </tr>\n  </tbody>\n</table>\n</div>"
     },
     "execution_count": 2,
     "metadata": {},
     "output_type": "execute_result"
    }
   ],
   "source": [
    "data = pd.read_csv(\"monster_prob.csv\", sep=\";\")\n",
    "data"
   ],
   "metadata": {
    "collapsed": false
   }
  },
  {
   "cell_type": "code",
   "execution_count": 6,
   "outputs": [
    {
     "name": "stderr",
     "output_type": "stream",
     "text": [
      "/var/folders/1c/p851yl4j1rlftw12wvdjglbm0000gn/T/ipykernel_89254/1694859379.py:1: UserWarning: Boolean Series key will be reindexed to match DataFrame index.\n",
      "  result = data[data[\"min_level\"] <= 5][data[\"max_level\"] >= 5]\n"
     ]
    },
    {
     "data": {
      "text/plain": "   min_level  max_level                      monster_lst          probs\n0          1         29  [\"GreenSlime\",\"Bug\",\"RockCrab\"]  [1/3,1/3,1/3]",
      "text/html": "<div>\n<style scoped>\n    .dataframe tbody tr th:only-of-type {\n        vertical-align: middle;\n    }\n\n    .dataframe tbody tr th {\n        vertical-align: top;\n    }\n\n    .dataframe thead th {\n        text-align: right;\n    }\n</style>\n<table border=\"1\" class=\"dataframe\">\n  <thead>\n    <tr style=\"text-align: right;\">\n      <th></th>\n      <th>min_level</th>\n      <th>max_level</th>\n      <th>monster_lst</th>\n      <th>probs</th>\n    </tr>\n  </thead>\n  <tbody>\n    <tr>\n      <th>0</th>\n      <td>1</td>\n      <td>29</td>\n      <td>[\"GreenSlime\",\"Bug\",\"RockCrab\"]</td>\n      <td>[1/3,1/3,1/3]</td>\n    </tr>\n  </tbody>\n</table>\n</div>"
     },
     "execution_count": 6,
     "metadata": {},
     "output_type": "execute_result"
    }
   ],
   "source": [
    "result = data[data[\"min_level\"] <= 5][data[\"max_level\"] >= 5]\n",
    "result"
   ],
   "metadata": {
    "collapsed": false
   }
  },
  {
   "cell_type": "code",
   "execution_count": 10,
   "outputs": [
    {
     "data": {
      "text/plain": "['[', '1', '/', '3', ',', '1', '/', '3', ',', '1', '/', '3', ']']"
     },
     "execution_count": 10,
     "metadata": {},
     "output_type": "execute_result"
    }
   ],
   "source": [
    "list(result[\"probs\"][0])"
   ],
   "metadata": {
    "collapsed": false
   }
  },
  {
   "cell_type": "code",
   "execution_count": null,
   "outputs": [],
   "source": [],
   "metadata": {
    "collapsed": false
   }
  }
 ],
 "metadata": {
  "kernelspec": {
   "display_name": "Python 3",
   "language": "python",
   "name": "python3"
  },
  "language_info": {
   "codemirror_mode": {
    "name": "ipython",
    "version": 2
   },
   "file_extension": ".py",
   "mimetype": "text/x-python",
   "name": "python",
   "nbconvert_exporter": "python",
   "pygments_lexer": "ipython2",
   "version": "2.7.6"
  }
 },
 "nbformat": 4,
 "nbformat_minor": 0
}
